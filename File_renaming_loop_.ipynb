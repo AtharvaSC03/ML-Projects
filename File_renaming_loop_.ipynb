{
  "nbformat": 4,
  "nbformat_minor": 0,
  "metadata": {
    "colab": {
      "provenance": [],
      "authorship_tag": "ABX9TyNp65PCSRAYukyS32QIoooJ",
      "include_colab_link": true
    },
    "kernelspec": {
      "name": "python3",
      "display_name": "Python 3"
    },
    "language_info": {
      "name": "python"
    }
  },
  "cells": [
    {
      "cell_type": "markdown",
      "metadata": {
        "id": "view-in-github",
        "colab_type": "text"
      },
      "source": [
        "<a href=\"https://colab.research.google.com/github/AtharvaSC03/ML-Projects/blob/main/File_renaming_loop_.ipynb\" target=\"_parent\"><img src=\"https://colab.research.google.com/assets/colab-badge.svg\" alt=\"Open In Colab\"/></a>"
      ]
    },
    {
      "cell_type": "code",
      "execution_count": null,
      "metadata": {
        "colab": {
          "base_uri": "https://localhost:8080/"
        },
        "id": "MRwBjogok0VW",
        "outputId": "5636d8b1-203b-4116-9d66-ca5bfdc178c3"
      },
      "outputs": [
        {
          "output_type": "execute_result",
          "data": {
            "text/plain": [
              "['anscombe.json',\n",
              " 'README.md',\n",
              " 'mnist_train_small.csv',\n",
              " 'california_housing_test.csv',\n",
              " 'california_housing_train.csv',\n",
              " 'mnist_test.csv']"
            ]
          },
          "metadata": {},
          "execution_count": 1
        }
      ],
      "source": [
        "import os\n",
        "folder_path = '/content/sample_data'\n",
        "\n",
        "files = os.listdir(folder_path)\n",
        "files"
      ]
    },
    {
      "cell_type": "code",
      "source": [
        "for index, filename in enumerate(files):\n",
        " # Get the file extension (e.g., '.txt', '.jpg')\n",
        "  file_extension = os.path.splitext(filename)[1]\n",
        " # Create new file name (e.g., file1.txt, file2.txt)\n",
        "  new_name = f\"file{index}{file_extension}\"\n",
        " # Create full paths for old and new file names\n",
        "  old_path = os.path.join(folder_path, filename)\n",
        "  new_path = os.path.join(folder_path, new_name)\n",
        " # Rename the file\n",
        "  os.rename(old_path, new_path)\n",
        "\n",
        "print('All files Renamed')"
      ],
      "metadata": {
        "colab": {
          "base_uri": "https://localhost:8080/"
        },
        "id": "KIIHL-4zlAuS",
        "outputId": "63518c08-63ea-49e0-afa9-20189a669678"
      },
      "execution_count": null,
      "outputs": [
        {
          "output_type": "stream",
          "name": "stdout",
          "text": [
            "All files Renamed\n"
          ]
        }
      ]
    },
    {
      "cell_type": "code",
      "source": [
        "import os\n",
        "foldre_path = '/content/sample_data'\n",
        "\n",
        "files = os.listdir(foldre_path)\n",
        "files"
      ],
      "metadata": {
        "colab": {
          "base_uri": "https://localhost:8080/"
        },
        "id": "TG59fIMYlkKK",
        "outputId": "862fd880-0155-432b-c68e-e9293c468757"
      },
      "execution_count": null,
      "outputs": [
        {
          "output_type": "execute_result",
          "data": {
            "text/plain": [
              "['new_file0.md', 'new_file3.csv', 'new_file5.csv', 'new_file1.json']"
            ]
          },
          "metadata": {},
          "execution_count": 11
        }
      ]
    },
    {
      "cell_type": "code",
      "source": [
        "for i,filename in enumerate(files, start = 0):\n",
        "  file_ext = os.path.splitext(filename)[1]\n",
        "  print(file_ext)\n",
        "  new_name = f'new_file{i}{file_ext}'\n",
        "\n",
        "  old_path = os.path.join(foldre_path, filename)\n",
        "  new_path = os.path.join(foldre_path, new_name)\n",
        "\n",
        "  os.rename(old_path, new_path)\n",
        "\n",
        "print('All files Renamed')\n"
      ],
      "metadata": {
        "colab": {
          "base_uri": "https://localhost:8080/"
        },
        "id": "Apmo2DwAmPzY",
        "outputId": "bd0fb987-780a-45a5-b591-97dece2b004b"
      },
      "execution_count": null,
      "outputs": [
        {
          "output_type": "stream",
          "name": "stdout",
          "text": [
            ".md\n",
            ".csv\n",
            ".csv\n",
            ".json\n",
            "All files Renamed\n"
          ]
        }
      ]
    },
    {
      "cell_type": "code",
      "source": [],
      "metadata": {
        "id": "e4W0TTTHnKm2"
      },
      "execution_count": null,
      "outputs": []
    }
  ]
}